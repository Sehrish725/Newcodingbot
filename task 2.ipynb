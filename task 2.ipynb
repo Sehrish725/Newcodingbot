{
 "cells": [
  {
   "cell_type": "code",
   "execution_count": 1,
   "id": "1e953448-68ec-4259-bca2-53894879cf65",
   "metadata": {},
   "outputs": [
    {
     "name": "stdout",
     "output_type": "stream",
     "text": [
      "hello\n"
     ]
    }
   ],
   "source": [
    "a=7\n",
    "b=8\n",
    "if a<b:\n",
    "    print(\"hello\")"
   ]
  },
  {
   "cell_type": "code",
   "execution_count": 2,
   "id": "2d2fbb92-b8bf-4148-9fc3-095313ba3474",
   "metadata": {},
   "outputs": [
    {
     "name": "stdout",
     "output_type": "stream",
     "text": [
      "a is less than b\n"
     ]
    }
   ],
   "source": [
    "a=7 \n",
    "b=8\n",
    "if a==b:\n",
    "    print(\"equal\")\n",
    "elif a<=b:\n",
    "    print(\"a is less than b\")\n",
    "else:\n",
    "        print(\"b is less than a\")"
   ]
  },
  {
   "cell_type": "code",
   "execution_count": 3,
   "id": "a0d7174c-0c87-48b9-9e84-04e16ac79221",
   "metadata": {},
   "outputs": [
    {
     "name": "stdout",
     "output_type": "stream",
     "text": [
      "winner\n"
     ]
    }
   ],
   "source": [
    "mark=95\n",
    "if mark>90:\n",
    "    if mark>=95:\n",
    "        print(\"winner\")\n",
    "else:\n",
    "    print(\"average\")"
   ]
  },
  {
   "cell_type": "code",
   "execution_count": 18,
   "id": "b29e5255-db11-4124-8949-b000418bb894",
   "metadata": {},
   "outputs": [
    {
     "name": "stdout",
     "output_type": "stream",
     "text": [
      "invalid\n"
     ]
    }
   ],
   "source": [
    "a = 200\n",
    "b = 220\n",
    "c = 450\n",
    "if b == a:\n",
    "    if c>b:\n",
    "        print(\"c is greatest\")\n",
    "else:\n",
    "    print(\"invalid\")"
   ]
  },
  {
   "cell_type": "code",
   "execution_count": 21,
   "id": "0f0c7695-7661-4bac-b36e-68454dff199b",
   "metadata": {},
   "outputs": [
    {
     "name": "stdout",
     "output_type": "stream",
     "text": [
      "0\n",
      "1\n",
      "2\n",
      "3\n",
      "4\n"
     ]
    }
   ],
   "source": [
    "for x in range(5):\n",
    "  print(x)"
   ]
  },
  {
   "cell_type": "code",
   "execution_count": 22,
   "id": "483e8da1-4f45-4a36-8f58-725af5757ec9",
   "metadata": {},
   "outputs": [
    {
     "name": "stdout",
     "output_type": "stream",
     "text": [
      "pakistan\n",
      "pakistan\n",
      "pakistan\n",
      "pakistan\n",
      "pakistan\n",
      "pakistan\n"
     ]
    }
   ],
   "source": [
    "for x in range(6):\n",
    "    print(\"pakistan\")"
   ]
  },
  {
   "cell_type": "code",
   "execution_count": null,
   "id": "c0261c6b-674a-4b84-934f-f924f48f2186",
   "metadata": {},
   "outputs": [],
   "source": []
  }
 ],
 "metadata": {
  "kernelspec": {
   "display_name": "Python 3 (ipykernel)",
   "language": "python",
   "name": "python3"
  },
  "language_info": {
   "codemirror_mode": {
    "name": "ipython",
    "version": 3
   },
   "file_extension": ".py",
   "mimetype": "text/x-python",
   "name": "python",
   "nbconvert_exporter": "python",
   "pygments_lexer": "ipython3",
   "version": "3.13.2"
  }
 },
 "nbformat": 4,
 "nbformat_minor": 5
}
